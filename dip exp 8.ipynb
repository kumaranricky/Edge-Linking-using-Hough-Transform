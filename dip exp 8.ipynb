{
 "cells": [
  {
   "cell_type": "code",
   "execution_count": 1,
   "id": "ffc1ae2e",
   "metadata": {},
   "outputs": [],
   "source": [
    "import cv2\n",
    "import matplotlib.pyplot as plt\n",
    "import numpy as np\n"
   ]
  },
  {
   "cell_type": "code",
   "execution_count": 2,
   "id": "25f29a8d",
   "metadata": {},
   "outputs": [],
   "source": [
    "# converting to grayscale"
   ]
  },
  {
   "cell_type": "code",
   "execution_count": 3,
   "id": "d7dc2f4c",
   "metadata": {},
   "outputs": [],
   "source": [
    "img=cv2.imread(\"line.jpg\",cv2.IMREAD_COLOR)\n",
    "img=cv2.resize(img,(500,400))\n",
    "g_img=cv2.cvtColor(img,cv2.COLOR_BGR2GRAY)\n",
    "cv2.imshow(\"Road\",img)\n",
    "cv2.imshow(\"GrayRoad\",g_img)\n",
    "cv2.waitKey(0)\n",
    "cv2.destroyAllWindows()"
   ]
  },
  {
   "cell_type": "code",
   "execution_count": 4,
   "id": "5d14741f",
   "metadata": {},
   "outputs": [],
   "source": [
    "#canny edge detector"
   ]
  },
  {
   "cell_type": "code",
   "execution_count": 5,
   "id": "dccd4bc3",
   "metadata": {},
   "outputs": [],
   "source": [
    "img1=cv2.GaussianBlur(g_img,(3,3),0)\n",
    "canny = cv2.Canny(g_img, 70, 150)\n",
    "cv2.imshow(\"Canny edge detector\",canny)\n",
    "cv2.waitKey(0)\n",
    "cv2.destroyAllWindows()"
   ]
  },
  {
   "cell_type": "code",
   "execution_count": 7,
   "id": "a41d818a",
   "metadata": {},
   "outputs": [],
   "source": [
    "#detect lines"
   ]
  },
  {
   "cell_type": "code",
   "execution_count": 8,
   "id": "7b95fa41",
   "metadata": {},
   "outputs": [],
   "source": [
    "lines=cv2.HoughLinesP(canny,1,np.pi/180, threshold=100, minLineLength=50,maxLineGap=250)"
   ]
  },
  {
   "cell_type": "code",
   "execution_count": 9,
   "id": "1bbf4fee",
   "metadata": {},
   "outputs": [],
   "source": [
    "# draw lines on image"
   ]
  },
  {
   "cell_type": "code",
   "execution_count": 22,
   "id": "d47c5a96",
   "metadata": {},
   "outputs": [],
   "source": [
    "for line in lines:\n",
    "    x1, y1, x2, y2 = line [0] \n",
    "    cv2.line(img,(x1, y1),(x2, y2),(0, 0, 255),1)\n",
    " "
   ]
  },
  {
   "cell_type": "code",
   "execution_count": null,
   "id": "a175848b",
   "metadata": {},
   "outputs": [],
   "source": []
  },
  {
   "cell_type": "code",
   "execution_count": null,
   "id": "21aaf0d8",
   "metadata": {},
   "outputs": [],
   "source": [
    "cv2.imshow(\"Hough transform\",img)\n",
    "cv2.waitKey(0)\n",
    "cv2.destroyAllWindows()"
   ]
  },
  {
   "cell_type": "code",
   "execution_count": null,
   "id": "284702e0",
   "metadata": {},
   "outputs": [],
   "source": []
  },
  {
   "cell_type": "code",
   "execution_count": null,
   "id": "1b5412e2",
   "metadata": {},
   "outputs": [],
   "source": []
  }
 ],
 "metadata": {
  "kernelspec": {
   "display_name": "Python 3",
   "language": "python",
   "name": "python3"
  },
  "language_info": {
   "codemirror_mode": {
    "name": "ipython",
    "version": 3
   },
   "file_extension": ".py",
   "mimetype": "text/x-python",
   "name": "python",
   "nbconvert_exporter": "python",
   "pygments_lexer": "ipython3",
   "version": "3.8.8"
  }
 },
 "nbformat": 4,
 "nbformat_minor": 5
}
